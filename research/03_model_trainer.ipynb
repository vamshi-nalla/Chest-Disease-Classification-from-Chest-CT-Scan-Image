{
 "cells": [
  {
   "cell_type": "code",
   "execution_count": 1,
   "metadata": {},
   "outputs": [],
   "source": [
    "import os"
   ]
  },
  {
   "cell_type": "code",
   "execution_count": 2,
   "metadata": {},
   "outputs": [
    {
     "data": {
      "text/plain": [
       "'d:\\\\MLOPs projects\\\\Chest-Disease-Classification-from-Chest-CT-Scan-Image\\\\research'"
      ]
     },
     "execution_count": 2,
     "metadata": {},
     "output_type": "execute_result"
    }
   ],
   "source": [
    "%pwd"
   ]
  },
  {
   "cell_type": "code",
   "execution_count": 3,
   "metadata": {},
   "outputs": [],
   "source": [
    "os.chdir(\"../\")"
   ]
  },
  {
   "cell_type": "code",
   "execution_count": 4,
   "metadata": {},
   "outputs": [
    {
     "data": {
      "text/plain": [
       "'d:\\\\MLOPs projects\\\\Chest-Disease-Classification-from-Chest-CT-Scan-Image'"
      ]
     },
     "execution_count": 4,
     "metadata": {},
     "output_type": "execute_result"
    }
   ],
   "source": [
    "%pwd"
   ]
  },
  {
   "cell_type": "code",
   "execution_count": 5,
   "metadata": {},
   "outputs": [],
   "source": [
    "from dataclasses import dataclass\n",
    "from pathlib import Path\n",
    "\n",
    "\n",
    "@dataclass(frozen=True)\n",
    "class TrainingConfig:\n",
    "    root_dir: Path\n",
    "    trained_model_path: Path\n",
    "    updated_base_model_path: Path\n",
    "    training_data: Path\n",
    "    params_epochs: int\n",
    "    params_batch_size: int\n",
    "    params_is_augmentation: bool\n",
    "    params_image_size: list"
   ]
  },
  {
   "cell_type": "code",
   "execution_count": 6,
   "metadata": {},
   "outputs": [],
   "source": [
    "from cnnClassifier.constants import *\n",
    "from cnnClassifier.utils.common import read_yaml, create_directories\n",
    "import tensorflow as tf"
   ]
  },
  {
   "cell_type": "code",
   "execution_count": 7,
   "metadata": {},
   "outputs": [],
   "source": [
    "class ConfigurationManager:\n",
    "    def __init__(\n",
    "        self,\n",
    "        config_filepath = CONFIG_FILE_PATH,\n",
    "        params_filepath = PARAMS_FILE_PATH):\n",
    "\n",
    "        self.config = read_yaml(config_filepath)\n",
    "        self.params = read_yaml(params_filepath)\n",
    "\n",
    "        create_directories([self.config.artifacts_root])\n",
    "    \n",
    "\n",
    "\n",
    "    def get_training_config(self) -> TrainingConfig:\n",
    "        training = self.config.training\n",
    "        prepare_base_model = self.config.prepare_base_model\n",
    "        params = self.params\n",
    "        training_data = os.path.join(self.config.data_ingestion.unzip_dir, \"Chest-CT-Scan-data\")\n",
    "        create_directories([\n",
    "            Path(training.root_dir)\n",
    "        ])\n",
    "\n",
    "        training_config = TrainingConfig(\n",
    "            root_dir=Path(training.root_dir),\n",
    "            trained_model_path=Path(training.trained_model_path),\n",
    "            updated_base_model_path=Path(prepare_base_model.updated_base_model_path),\n",
    "            training_data=Path(training_data),\n",
    "            params_epochs=params.EPOCHS,\n",
    "            params_batch_size=params.BATCH_SIZE,\n",
    "            params_is_augmentation=params.AUGMENTATION,\n",
    "            params_image_size=params.IMAGE_SIZE\n",
    "        )\n",
    "\n",
    "        return training_config"
   ]
  },
  {
   "cell_type": "code",
   "execution_count": 8,
   "metadata": {},
   "outputs": [],
   "source": [
    "import os\n",
    "import urllib.request as request\n",
    "from zipfile import ZipFile\n",
    "import tensorflow as tf\n",
    "import time"
   ]
  },
  {
   "cell_type": "code",
   "execution_count": 9,
   "metadata": {},
   "outputs": [],
   "source": [
    "class Training:\n",
    "    def __init__(self, config: TrainingConfig):\n",
    "        self.config = config\n",
    "\n",
    "    \n",
    "    def get_base_model(self):\n",
    "        self.model = tf.keras.models.load_model(\n",
    "            self.config.updated_base_model_path\n",
    "        )\n",
    "\n",
    "    def train_valid_generator(self):\n",
    "\n",
    "        datagenerator_kwargs = dict(\n",
    "            rescale = 1./255,\n",
    "            validation_split=0.20\n",
    "        )\n",
    "\n",
    "        dataflow_kwargs = dict(\n",
    "            target_size=self.config.params_image_size[:-1],\n",
    "            batch_size=self.config.params_batch_size,\n",
    "            interpolation=\"bilinear\"\n",
    "        )\n",
    "\n",
    "        valid_datagenerator = tf.keras.preprocessing.image.ImageDataGenerator(\n",
    "            **datagenerator_kwargs\n",
    "        )\n",
    "\n",
    "        self.valid_generator = valid_datagenerator.flow_from_directory(\n",
    "            directory=self.config.training_data,\n",
    "            subset=\"validation\",\n",
    "            shuffle=False,\n",
    "            **dataflow_kwargs\n",
    "        )\n",
    "\n",
    "        if self.config.params_is_augmentation:\n",
    "            train_datagenerator = tf.keras.preprocessing.image.ImageDataGenerator(\n",
    "                rotation_range=40,\n",
    "                horizontal_flip=True,\n",
    "                width_shift_range=0.2,\n",
    "                height_shift_range=0.2,\n",
    "                shear_range=0.2,\n",
    "                zoom_range=0.2,\n",
    "                **datagenerator_kwargs\n",
    "            )\n",
    "        else:\n",
    "            train_datagenerator = valid_datagenerator\n",
    "\n",
    "        self.train_generator = train_datagenerator.flow_from_directory(\n",
    "            directory=self.config.training_data,\n",
    "            subset=\"training\",\n",
    "            shuffle=True,\n",
    "            **dataflow_kwargs\n",
    "        )\n",
    "\n",
    "    \n",
    "    @staticmethod\n",
    "    def save_model(path: Path, model: tf.keras.Model):\n",
    "        model.save(path)\n",
    "\n",
    "\n",
    "\n",
    "    \n",
    "    def train(self):\n",
    "        self.steps_per_epoch = self.train_generator.samples // self.train_generator.batch_size\n",
    "        self.validation_steps = self.valid_generator.samples // self.valid_generator.batch_size\n",
    "\n",
    "        self.model.fit(\n",
    "            self.train_generator,\n",
    "            epochs=self.config.params_epochs,\n",
    "            steps_per_epoch=self.steps_per_epoch,\n",
    "            validation_steps=self.validation_steps,\n",
    "            validation_data=self.valid_generator\n",
    "        )\n",
    "\n",
    "        self.save_model(\n",
    "            path=self.config.trained_model_path,\n",
    "            model=self.model\n",
    "        )\n",
    "\n"
   ]
  },
  {
   "cell_type": "code",
   "execution_count": 10,
   "metadata": {},
   "outputs": [
    {
     "name": "stdout",
     "output_type": "stream",
     "text": [
      "[2024-03-25 20:59:21,266: INFO: common: yaml file: config\\config.yaml loaded successfully]\n",
      "[2024-03-25 20:59:21,269: INFO: common: yaml file: params.yaml loaded successfully]\n",
      "[2024-03-25 20:59:21,274: INFO: common: created directory at: artifacts]\n",
      "[2024-03-25 20:59:21,274: INFO: common: created directory at: artifacts\\training]\n",
      "Found 68 images belonging to 2 classes.\n",
      "Found 275 images belonging to 2 classes.\n",
      "Epoch 1/15\n",
      "17/17 [==============================] - 23s 1s/step - loss: 28.5077 - accuracy: 0.5290 - val_loss: 23.1461 - val_accuracy: 0.6094\n",
      "Epoch 2/15\n",
      "17/17 [==============================] - 21s 1s/step - loss: 22.3920 - accuracy: 0.6139 - val_loss: 8.1961 - val_accuracy: 0.4531\n",
      "Epoch 3/15\n",
      "17/17 [==============================] - 21s 1s/step - loss: 24.0700 - accuracy: 0.5444 - val_loss: 67.8761 - val_accuracy: 0.3906\n",
      "Epoch 4/15\n",
      "17/17 [==============================] - 21s 1s/step - loss: 12.7873 - accuracy: 0.7336 - val_loss: 2.0889 - val_accuracy: 0.7500\n",
      "Epoch 5/15\n",
      "17/17 [==============================] - 21s 1s/step - loss: 15.0349 - accuracy: 0.7259 - val_loss: 5.8929 - val_accuracy: 0.8750\n",
      "Epoch 6/15\n",
      "17/17 [==============================] - 21s 1s/step - loss: 9.9913 - accuracy: 0.6988 - val_loss: 0.0540 - val_accuracy: 0.9844\n",
      "Epoch 7/15\n",
      "17/17 [==============================] - 21s 1s/step - loss: 5.5298 - accuracy: 0.7722 - val_loss: 0.1541 - val_accuracy: 0.9844\n",
      "Epoch 8/15\n",
      "17/17 [==============================] - 20s 1s/step - loss: 1.4014 - accuracy: 0.9189 - val_loss: 0.7171 - val_accuracy: 0.8750\n",
      "Epoch 9/15\n",
      "17/17 [==============================] - 20s 1s/step - loss: 3.7713 - accuracy: 0.8726 - val_loss: 0.0176 - val_accuracy: 1.0000\n",
      "Epoch 10/15\n",
      "17/17 [==============================] - 20s 1s/step - loss: 4.0058 - accuracy: 0.7992 - val_loss: 4.5951e-05 - val_accuracy: 1.0000\n",
      "Epoch 11/15\n",
      "17/17 [==============================] - 20s 1s/step - loss: 2.7708 - accuracy: 0.8649 - val_loss: 6.8177e-04 - val_accuracy: 1.0000\n",
      "Epoch 12/15\n",
      "17/17 [==============================] - 20s 1s/step - loss: 1.6350 - accuracy: 0.8958 - val_loss: 6.2037 - val_accuracy: 0.7031\n",
      "Epoch 13/15\n",
      "17/17 [==============================] - 20s 1s/step - loss: 5.2992 - accuracy: 0.7761 - val_loss: 5.0589 - val_accuracy: 0.8750\n",
      "Epoch 14/15\n",
      "17/17 [==============================] - 20s 1s/step - loss: 10.3701 - accuracy: 0.6911 - val_loss: 0.5011 - val_accuracy: 0.9688\n",
      "Epoch 15/15\n",
      "17/17 [==============================] - 21s 1s/step - loss: 1.0926 - accuracy: 0.9035 - val_loss: 0.2191 - val_accuracy: 0.9844\n"
     ]
    }
   ],
   "source": [
    "try:\n",
    "    config = ConfigurationManager()\n",
    "    training_config = config.get_training_config()\n",
    "    training = Training(config=training_config)\n",
    "    training.get_base_model()\n",
    "    training.train_valid_generator()\n",
    "    training.train()\n",
    "    \n",
    "except Exception as e:\n",
    "    raise e"
   ]
  },
  {
   "cell_type": "code",
   "execution_count": null,
   "metadata": {},
   "outputs": [],
   "source": []
  }
 ],
 "metadata": {
  "kernelspec": {
   "display_name": "chest",
   "language": "python",
   "name": "python3"
  },
  "language_info": {
   "codemirror_mode": {
    "name": "ipython",
    "version": 3
   },
   "file_extension": ".py",
   "mimetype": "text/x-python",
   "name": "python",
   "nbconvert_exporter": "python",
   "pygments_lexer": "ipython3",
   "version": "3.8.19"
  }
 },
 "nbformat": 4,
 "nbformat_minor": 2
}
